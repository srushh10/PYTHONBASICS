{
  "nbformat": 4,
  "nbformat_minor": 0,
  "metadata": {
    "colab": {
      "provenance": []
    },
    "kernelspec": {
      "name": "python3",
      "display_name": "Python 3"
    },
    "language_info": {
      "name": "python"
    }
  },
  "cells": [
    {
      "cell_type": "code",
      "execution_count": null,
      "metadata": {
        "id": "8vPGOUO6m-Ea"
      },
      "outputs": [],
      "source": []
    },
    {
      "cell_type": "markdown",
      "source": [
        "THEORY QUESTIONS\n"
      ],
      "metadata": {
        "id": "-NCAhAIpnG5s"
      }
    },
    {
      "cell_type": "markdown",
      "source": [
        "What Is Python and Why It Is Popular?\n",
        "\n",
        "* Python is a programming language that is easy to understand and write, making it a popular choice among developers and programmers.\n",
        "It is compatible with various programming paradigms, such as procedural, object-oriented, and functional programming.\n",
        "Hence it is the popular programming language.\n",
        "\n",
        "\n"
      ],
      "metadata": {
        "id": "7yObgEaTnQkd"
      }
    },
    {
      "cell_type": "markdown",
      "source": [
        " What is an interpreter in Python?\n",
        "\n",
        "*   A Python interpreter is a program that reads and executes Python code.\n",
        "\n",
        "\n"
      ],
      "metadata": {
        "id": "jibQCM32oT6g"
      }
    },
    {
      "cell_type": "markdown",
      "source": [
        " What are pre-defined keywords in Python?\n",
        "\n",
        "\n",
        "* Keywords are reserved words in Python that have special meanings and cannot be used as identifiers (variable names, function names, etc.).\n",
        "Examples of keywords include if, else, while, for, def, class, import, try, except, return, True, False, None, etc.\n",
        "\n",
        "\n"
      ],
      "metadata": {
        "id": "lBKkN5LvpEvQ"
      }
    },
    {
      "cell_type": "markdown",
      "source": [
        "Can keywords be used as variable names?\n",
        "\n",
        "*  No a keyword cannot be used as a variable names because they are predefined.\n",
        "\n",
        "\n"
      ],
      "metadata": {
        "id": "diRkb663pbxu"
      }
    },
    {
      "cell_type": "markdown",
      "source": [],
      "metadata": {
        "id": "lDMilzJ0p1Bt"
      }
    },
    {
      "cell_type": "markdown",
      "source": [
        " What is mutability in Python?\n",
        "\n",
        "* In Python, objects can be either changeable or unchangeable.\n",
        "Mutable objects, such as lists and dictionaries, can be modified after creation.\n",
        "\n",
        "\n"
      ],
      "metadata": {
        "id": "1xDYKV8gnG4f"
      }
    },
    {
      "cell_type": "markdown",
      "source": [
        " Why are lists mutable, but tuples are immutable?\n",
        "\n",
        "\n",
        "* We can made changes in the list hence it is mutable but we cannot make changes  insert the values in the tuple hence it is immutable.\n",
        "\n",
        "\n",
        "\n"
      ],
      "metadata": {
        "id": "h9R-ZReUqP9d"
      }
    },
    {
      "cell_type": "markdown",
      "source": [
        "What is the difference between “==” and “is” operators in Python?\n",
        "\n",
        "\n",
        "*== is the comparison operator while in is the membership operator in python.\n",
        "\n",
        "\n"
      ],
      "metadata": {
        "id": "9bSorarhq9M3"
      }
    },
    {
      "cell_type": "markdown",
      "source": [
        "What are logical operators in Python?\n",
        "\n",
        "Logical operators are and, or, not.Helpful in making the decisions.\n",
        "\n",
        "\n"
      ],
      "metadata": {
        "id": "f9eRjB8Lrjug"
      }
    },
    {
      "cell_type": "markdown",
      "source": [
        "What is type casting in Python?\n",
        "\n",
        "Type casting, also referred to as type conversion, is the process of changing one data type to another in Python.\n",
        "Python provides built-in functions for type casting, such as int(), float(), str(), list(), tuple(), dict(), etc.\n",
        "Type casting is often necessary for performing arithmetic operations, data manipulation, and input/output operations in Python programs.\n",
        "\n",
        "\n"
      ],
      "metadata": {
        "id": "6FP_THAXsKF8"
      }
    },
    {
      "cell_type": "markdown",
      "source": [
        "What is the difference between implicit and explicit type casting?\n",
        "Whenever python understand the data types by it's own then it is implicit casting.\n",
        "Whenever python convert the datatypes using the builtin functions then it is the explicit casting.\n",
        "\n",
        "\n",
        "\n",
        "\n",
        "\n"
      ],
      "metadata": {
        "id": "ADx_3Dajsapj"
      }
    },
    {
      "cell_type": "markdown",
      "source": [
        "What is the purpose of conditional statements in Python?\n",
        "\n",
        "\n",
        "Conditionals in Python are used to execute code based on the evaluation of one or more conditions.\n",
        "Python supports conditional statements such as if, elif (else if), and else to control the flow of execution.\n",
        "Conditionals can be nested to handle multiple conditions and control different branches of execution based on the outcome of logical expressions.\n",
        "\n",
        "\n",
        "\n",
        "\n",
        "\n",
        "\n"
      ],
      "metadata": {
        "id": "wyB49g7WtNEg"
      }
    },
    {
      "cell_type": "markdown",
      "source": [
        "How does the elif statement work?\n",
        "\n",
        "\n",
        "Elif statement used when we have to check many conditions for making decision.\n",
        "\n",
        "\n"
      ],
      "metadata": {
        "id": "uMSAoPnxtjrR"
      }
    },
    {
      "cell_type": "markdown",
      "source": [
        "What is the difference between for and while loops?\n",
        "\n",
        "\n",
        "For loops are used for iterating over a sequence of elements, while While loops are used for executing code until a specified condition becomes False.\n",
        "\n",
        "\n"
      ],
      "metadata": {
        "id": "udbXQwiFt_9-"
      }
    },
    {
      "cell_type": "markdown",
      "source": [
        " Describe a scenario where a while loop is more suitable than a for loop."
      ],
      "metadata": {
        "id": "quM-CWQcubU-"
      }
    },
    {
      "cell_type": "markdown",
      "source": [
        "PRACTICAL QUESTIONS"
      ],
      "metadata": {
        "id": "s04dj00iurcK"
      }
    },
    {
      "cell_type": "markdown",
      "source": [
        " Write a Python program to print \"Hello, World!."
      ],
      "metadata": {
        "id": "UeVjK0dcu5qD"
      }
    },
    {
      "cell_type": "code",
      "source": [
        "# This program prints Hello, world!\n",
        "\n",
        "print('Hello, world!')\n"
      ],
      "metadata": {
        "colab": {
          "base_uri": "https://localhost:8080/"
        },
        "id": "yXyLg2hmvLux",
        "outputId": "43810ff0-2c2b-43b8-b78f-2e400aa6cdcc"
      },
      "execution_count": 1,
      "outputs": [
        {
          "output_type": "stream",
          "name": "stdout",
          "text": [
            "Hello, world!\n"
          ]
        }
      ]
    },
    {
      "cell_type": "markdown",
      "source": [],
      "metadata": {
        "id": "2c3qlOxxu5ou"
      }
    },
    {
      "cell_type": "markdown",
      "source": [
        "Write a Python program that displays your name and age."
      ],
      "metadata": {
        "id": "EE38ofA3vr3K"
      }
    },
    {
      "cell_type": "code",
      "source": [
        "age = input(\"Enter age: \")\n",
        "name = input(\"Enter name: \")\n",
        "print(\"Hi, my name is \" + name + \", and I am \" + age + \" years old.\")\n",
        "\n"
      ],
      "metadata": {
        "colab": {
          "base_uri": "https://localhost:8080/"
        },
        "id": "cy-u9LSBvuWT",
        "outputId": "6065475e-b3d2-4bd9-8ed7-eee99550259c"
      },
      "execution_count": 2,
      "outputs": [
        {
          "output_type": "stream",
          "name": "stdout",
          "text": [
            "Enter age: 21\n",
            "Enter name: SRUSHTI\n",
            "Hi, my name is SRUSHTI, and I am 21 years old.\n"
          ]
        }
      ]
    },
    {
      "cell_type": "markdown",
      "source": [
        " Write code to print all the pre-defined keywords in Python using the keyword library."
      ],
      "metadata": {
        "id": "qfypnVDAwLZt"
      }
    },
    {
      "cell_type": "code",
      "source": [
        "import keyword\n",
        "print(\"The list of keywords is : \")\n",
        "print(keyword.kwlist)"
      ],
      "metadata": {
        "colab": {
          "base_uri": "https://localhost:8080/"
        },
        "id": "pEBNHJI0wYhu",
        "outputId": "a6739cb0-db36-45ad-baf2-50d5b17923f4"
      },
      "execution_count": 3,
      "outputs": [
        {
          "output_type": "stream",
          "name": "stdout",
          "text": [
            "The list of keywords is : \n",
            "['False', 'None', 'True', 'and', 'as', 'assert', 'async', 'await', 'break', 'class', 'continue', 'def', 'del', 'elif', 'else', 'except', 'finally', 'for', 'from', 'global', 'if', 'import', 'in', 'is', 'lambda', 'nonlocal', 'not', 'or', 'pass', 'raise', 'return', 'try', 'while', 'with', 'yield']\n"
          ]
        }
      ]
    },
    {
      "cell_type": "markdown",
      "source": [
        "Write a program that checks if a given word is a Python keyword."
      ],
      "metadata": {
        "id": "Tvujim1vwq_Y"
      }
    },
    {
      "cell_type": "code",
      "source": [
        "# Import the keyword module to access Python keywords\n",
        "import keyword\n",
        "\n",
        "s = \"while\"\n",
        "\n",
        "# Check if the input string is in the list of Python keywords\n",
        "if s in keyword.kwlist:\n",
        "    # Print a message if the string is a Python keyword\n",
        "    print(f\"'{s}' is a Python keyword.\")\n",
        "else:\n",
        "\n",
        "    print(f\"'{s}' is not a Python keyword.\")"
      ],
      "metadata": {
        "colab": {
          "base_uri": "https://localhost:8080/"
        },
        "id": "yeQEaigZwtbW",
        "outputId": "ef14eeac-f036-4886-ec87-d743d77bcaa2"
      },
      "execution_count": 4,
      "outputs": [
        {
          "output_type": "stream",
          "name": "stdout",
          "text": [
            "'while' is a Python keyword.\n"
          ]
        }
      ]
    },
    {
      "cell_type": "markdown",
      "source": [
        " Create a list and tuple in Python, and demonstrate how attempting to change an element works differently\n",
        "for each."
      ],
      "metadata": {
        "id": "YVhW2ft4xKqU"
      }
    },
    {
      "cell_type": "code",
      "source": [
        "a = [(1, 'apple'), (2, 'banana'), (3, 'cherry')]\n",
        "print(a)\n"
      ],
      "metadata": {
        "id": "BUMyESYoxSNA",
        "outputId": "599c1ee3-0e23-47d7-fdcc-768bfe44deff",
        "colab": {
          "base_uri": "https://localhost:8080/"
        }
      },
      "execution_count": 5,
      "outputs": [
        {
          "output_type": "stream",
          "name": "stdout",
          "text": [
            "[(1, 'apple'), (2, 'banana'), (3, 'cherry')]\n"
          ]
        }
      ]
    },
    {
      "cell_type": "markdown",
      "source": [
        "Write a function to demonstrate the behavior of mutable and immutable arguments."
      ],
      "metadata": {
        "id": "KPcK4bNzySz0"
      }
    },
    {
      "cell_type": "code",
      "source": [
        "# Python code to test that\n",
        "# tuples are immutable\n",
        "\n",
        "tuple1 = (0, 1, 2, 3)\n",
        "tuple1[0] = 4\n",
        "print(tuple1)"
      ],
      "metadata": {
        "id": "dMWt8rWNyUYN",
        "outputId": "881b223b-763c-4480-a921-7e1478bdaf28",
        "colab": {
          "base_uri": "https://localhost:8080/",
          "height": 199
        }
      },
      "execution_count": 6,
      "outputs": [
        {
          "output_type": "error",
          "ename": "TypeError",
          "evalue": "'tuple' object does not support item assignment",
          "traceback": [
            "\u001b[0;31m---------------------------------------------------------------------------\u001b[0m",
            "\u001b[0;31mTypeError\u001b[0m                                 Traceback (most recent call last)",
            "\u001b[0;32m<ipython-input-6-dc6e9b1378e4>\u001b[0m in \u001b[0;36m<cell line: 0>\u001b[0;34m()\u001b[0m\n\u001b[1;32m      3\u001b[0m \u001b[0;34m\u001b[0m\u001b[0m\n\u001b[1;32m      4\u001b[0m \u001b[0mtuple1\u001b[0m \u001b[0;34m=\u001b[0m \u001b[0;34m(\u001b[0m\u001b[0;36m0\u001b[0m\u001b[0;34m,\u001b[0m \u001b[0;36m1\u001b[0m\u001b[0;34m,\u001b[0m \u001b[0;36m2\u001b[0m\u001b[0;34m,\u001b[0m \u001b[0;36m3\u001b[0m\u001b[0;34m)\u001b[0m\u001b[0;34m\u001b[0m\u001b[0;34m\u001b[0m\u001b[0m\n\u001b[0;32m----> 5\u001b[0;31m \u001b[0mtuple1\u001b[0m\u001b[0;34m[\u001b[0m\u001b[0;36m0\u001b[0m\u001b[0;34m]\u001b[0m \u001b[0;34m=\u001b[0m \u001b[0;36m4\u001b[0m\u001b[0;34m\u001b[0m\u001b[0;34m\u001b[0m\u001b[0m\n\u001b[0m\u001b[1;32m      6\u001b[0m \u001b[0mprint\u001b[0m\u001b[0;34m(\u001b[0m\u001b[0mtuple1\u001b[0m\u001b[0;34m)\u001b[0m\u001b[0;34m\u001b[0m\u001b[0;34m\u001b[0m\u001b[0m\n",
            "\u001b[0;31mTypeError\u001b[0m: 'tuple' object does not support item assignment"
          ]
        }
      ]
    },
    {
      "cell_type": "code",
      "source": [
        "my_set = {1, 2, 3}\n",
        "new_set = my_set\n",
        "new_set.add(4)\n",
        "\n",
        "print(my_set)\n",
        "print(new_set)\n"
      ],
      "metadata": {
        "id": "pwK5N6SGys-g",
        "outputId": "080a095c-f0ed-4203-989e-25245af0796d",
        "colab": {
          "base_uri": "https://localhost:8080/"
        }
      },
      "execution_count": 8,
      "outputs": [
        {
          "output_type": "stream",
          "name": "stdout",
          "text": [
            "{1, 2, 3, 4}\n",
            "{1, 2, 3, 4}\n"
          ]
        }
      ]
    },
    {
      "cell_type": "markdown",
      "source": [
        "Write a program to demonstrate the use of logical operators."
      ],
      "metadata": {
        "id": "unT9LLOey5jz"
      }
    },
    {
      "cell_type": "code",
      "source": [
        "\n",
        "a, b, c = True, False, True\n",
        "\n",
        "# AND: Both conditions must be True\n",
        "if a and c:\n",
        "    print(\"Both a and c are True (AND condition).\")\n",
        "\n",
        "# OR: At least one condition must be True\n",
        "if b or c:\n",
        "    print(\"Either b or c is True (OR condition).\")\n",
        "\n",
        "# NOT: Reverses the condition\n",
        "if not b:\n",
        "    print(\"b is False (NOT condition).\")\n"
      ],
      "metadata": {
        "id": "r7OZ4YJjy6zw",
        "outputId": "0df33591-931c-4d9b-d53b-1f92f1cbd0aa",
        "colab": {
          "base_uri": "https://localhost:8080/"
        }
      },
      "execution_count": 9,
      "outputs": [
        {
          "output_type": "stream",
          "name": "stdout",
          "text": [
            "Both a and c are True (AND condition).\n",
            "Either b or c is True (OR condition).\n",
            "b is False (NOT condition).\n"
          ]
        }
      ]
    },
    {
      "cell_type": "markdown",
      "source": [
        "Write a Python program to convert user input from string to integer, float, and boolean types."
      ],
      "metadata": {
        "id": "rcqisvDYzXJz"
      }
    },
    {
      "cell_type": "code",
      "source": [
        "s = \"42\"\n",
        "num = int(s)\n",
        "print(num)"
      ],
      "metadata": {
        "id": "ZuDflvF7zYvy",
        "outputId": "24de5da5-45f8-4003-935c-32fb53ba36fc",
        "colab": {
          "base_uri": "https://localhost:8080/"
        }
      },
      "execution_count": 10,
      "outputs": [
        {
          "output_type": "stream",
          "name": "stdout",
          "text": [
            "42\n"
          ]
        }
      ]
    },
    {
      "cell_type": "markdown",
      "source": [],
      "metadata": {
        "id": "qMbQE8--zXIj"
      }
    },
    {
      "cell_type": "markdown",
      "source": [
        " Write code to demonstrate type casting with list elements."
      ],
      "metadata": {
        "id": "2Du7MXM1z4fK"
      }
    },
    {
      "cell_type": "markdown",
      "source": [],
      "metadata": {
        "id": "gUEgdqEjzXHc"
      }
    },
    {
      "cell_type": "code",
      "source": [
        "# Python program to demonstrate\n",
        "# type Casting\n",
        "\n",
        "# int variable\n",
        "a = 5\n",
        "\n",
        "# typecast to float\n",
        "n = float(a)\n",
        "\n",
        "print(n)\n",
        "print(type(n))\n"
      ],
      "metadata": {
        "id": "GUwTEVSOz6_-",
        "outputId": "7a23584c-0c70-49f2-d5bf-9dde3325148a",
        "colab": {
          "base_uri": "https://localhost:8080/"
        }
      },
      "execution_count": 11,
      "outputs": [
        {
          "output_type": "stream",
          "name": "stdout",
          "text": [
            "5.0\n",
            "<class 'float'>\n"
          ]
        }
      ]
    },
    {
      "cell_type": "markdown",
      "source": [
        "Write a program that checks if a number is positive, negative, or zero."
      ],
      "metadata": {
        "id": "rXwH-_E30a3-"
      }
    },
    {
      "cell_type": "code",
      "source": [
        "num = float(input(\"Enter a number: \"))\n",
        "if num > 0:\n",
        "   print(\"Positive number\")\n",
        "elif num == 0:\n",
        "   print(\"Zero\")\n",
        "else:\n",
        "   print(\"Negative number\")\n"
      ],
      "metadata": {
        "id": "JBYpDqLk0duu",
        "outputId": "185e5c29-15ee-494a-ea4b-5e09dc806fdc",
        "colab": {
          "base_uri": "https://localhost:8080/"
        }
      },
      "execution_count": 12,
      "outputs": [
        {
          "output_type": "stream",
          "name": "stdout",
          "text": [
            "Enter a number: 10\n",
            "Positive number\n"
          ]
        }
      ]
    },
    {
      "cell_type": "markdown",
      "source": [
        "Write a for loop to print numbers from 1 to 10."
      ],
      "metadata": {
        "id": "IUHiWWEr0wdO"
      }
    },
    {
      "cell_type": "markdown",
      "source": [],
      "metadata": {
        "id": "9X6Dd-th0wbc"
      }
    },
    {
      "cell_type": "code",
      "source": [
        "for i in range(1, 11):\n",
        "    print(i)"
      ],
      "metadata": {
        "id": "68EuvfSs00lB",
        "outputId": "64f3ef9f-3321-4cd1-c555-3432b734479b",
        "colab": {
          "base_uri": "https://localhost:8080/"
        }
      },
      "execution_count": 13,
      "outputs": [
        {
          "output_type": "stream",
          "name": "stdout",
          "text": [
            "1\n",
            "2\n",
            "3\n",
            "4\n",
            "5\n",
            "6\n",
            "7\n",
            "8\n",
            "9\n",
            "10\n"
          ]
        }
      ]
    },
    {
      "cell_type": "markdown",
      "source": [
        "Write a Python program to find the sum of all even numbers between 1 and 50."
      ],
      "metadata": {
        "id": "8I0gUsk11MLL"
      }
    },
    {
      "cell_type": "code",
      "source": [
        "def even_sum(number):\n",
        "    count = 0\n",
        "    sum = 0\n",
        "    while count <= 50:\n",
        "        if count%2 == 0:\n",
        "            sum = sum + count\n",
        "            count = count + 1\n",
        "    return sum"
      ],
      "metadata": {
        "id": "PiQoBcWB1uXA"
      },
      "execution_count": 16,
      "outputs": []
    },
    {
      "cell_type": "markdown",
      "source": [
        "Write a program to reverse a string using a while loop."
      ],
      "metadata": {
        "id": "tOnv0Sri1-Jb"
      }
    },
    {
      "cell_type": "code",
      "source": [
        "s = \"GeeksforGeeks\"\n",
        "rev = s[::-1]\n",
        "print(rev)"
      ],
      "metadata": {
        "id": "0Mm3wIh71_o9",
        "outputId": "1cf17ad8-d58a-4b4f-f803-c965371111e0",
        "colab": {
          "base_uri": "https://localhost:8080/"
        }
      },
      "execution_count": 17,
      "outputs": [
        {
          "output_type": "stream",
          "name": "stdout",
          "text": [
            "skeeGrofskeeG\n"
          ]
        }
      ]
    },
    {
      "cell_type": "markdown",
      "source": [
        "Write a Python program to calculate the factorial of a number provided by the user using a while loop."
      ],
      "metadata": {
        "id": "CIqUdhll2QYp"
      }
    },
    {
      "cell_type": "code",
      "source": [
        "# Input: An integer number\n",
        "num = 6\n",
        "\n",
        "# Initialize the factorial variable to 1\n",
        "factorial = 1\n",
        "\n",
        "# Calculate the factorial using a for loop\n",
        "for i in range(1, num + 1):\n",
        "    factorial *= i\n",
        "\n",
        "# Output: The factorial of the number\n",
        "print(f\"The factorial of {num} is {factorial}\")"
      ],
      "metadata": {
        "id": "_nAejuDE2Rtg",
        "outputId": "7ef0f597-55d2-42e8-b40f-bb2a2cfa4cea",
        "colab": {
          "base_uri": "https://localhost:8080/"
        }
      },
      "execution_count": 18,
      "outputs": [
        {
          "output_type": "stream",
          "name": "stdout",
          "text": [
            "The factorial of 6 is 720\n"
          ]
        }
      ]
    }
  ]
}